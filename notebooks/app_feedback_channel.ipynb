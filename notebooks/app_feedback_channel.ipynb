{
  "nbformat": 4,
  "nbformat_minor": 0,
  "metadata": {
    "colab": {
      "name": "app_feedback_channel.ipynb",
      "provenance": [],
      "collapsed_sections": []
    },
    "kernelspec": {
      "name": "python3",
      "display_name": "Python 3"
    }
  },
  "cells": [
    {
      "cell_type": "markdown",
      "metadata": {
        "colab_type": "text",
        "id": "lbI8y3v1G6OM"
      },
      "source": [
        "#### Copyright 2020 Google LLC.\n",
        "\n",
        "Licensed under the Apache License, Version 2.0 (the \"License\");"
      ]
    },
    {
      "cell_type": "code",
      "metadata": {
        "colab_type": "code",
        "id": "JxL-8R6KHRtK",
        "colab": {}
      },
      "source": [
        "# Licensed under the Apache License, Version 2.0 (the \"License\");\n",
        "# you may not use this file except in compliance with the License.\n",
        "# You may obtain a copy of the License at\n",
        "\n",
        "# https://www.apache.org/licenses/LICENSE-2.0\n",
        "\n",
        "# Unless required by applicable law or agreed to in writing, software\n",
        "# distributed under the License is distributed on an \"AS IS\" BASIS,\n",
        "# WITHOUT WARRANTIES OR CONDITIONS OF ANY KIND, either express or implied.\n",
        "# See the License for the specific language governing permissions and\n",
        "# limitations under the License."
      ],
      "execution_count": 0,
      "outputs": []
    },
    {
      "cell_type": "markdown",
      "metadata": {
        "colab_type": "text",
        "id": "3Sf3qQL9CrIG"
      },
      "source": [
        "# Testing the App Feedback Channel\n",
        "\n",
        "This notebook shows you how to use the app feedback channel through the Android Management API. It is assumed that you have worked through the [Android Management API quickstart guide](https://developers.google.com/android/management/quickstart)  and are therefore familiar with how to use this colab notebook and already have a cloud project, test enterprise, and provisioned device.\n",
        "\n",
        "## Authenticating\n",
        "\n",
        "To create and access resources, you need to authenticate with an account that has edit rights over your project. To start the authentication flow, **run the cell below**.\n"
      ]
    },
    {
      "cell_type": "code",
      "metadata": {
        "colab_type": "code",
        "id": "8myK1D6uy7HR",
        "colab": {}
      },
      "source": [
        "import json\n",
        "from apiclient.discovery import build\n",
        "from google_auth_oauthlib.flow import InstalledAppFlow\n",
        "import pprint\n",
        "\n",
        "# This is a public OAuth config that you can use to run this guide.\n",
        "# However, use different credentials when building your own solution.\n",
        "CLIENT_CONFIG = {\n",
        "    'installed': {\n",
        "        'client_id':'882252295571-uvkkfelq073vq73bbq9cmr0rn8bt80ee.apps.googleusercontent.com',\n",
        "        'client_secret': 'S2QcoBe0jxNLUoqnpeksCLxI',\n",
        "        'auth_uri':'https://accounts.google.com/o/oauth2/auth',\n",
        "        'token_uri':'https://accounts.google.com/o/oauth2/token'\n",
        "    }\n",
        "}\n",
        "SCOPES = ['https://www.googleapis.com/auth/androidmanagement']\n",
        "\n",
        "# Run the OAuth flow.\n",
        "flow = InstalledAppFlow.from_client_config(CLIENT_CONFIG, SCOPES)\n",
        "credentials = flow.run_console()\n",
        "\n",
        "# Create the API client.\n",
        "androidmanagement = build('androidmanagement', 'v1', credentials=credentials)\n",
        "\n",
        "print('\\nAuthentication succeeded.')"
      ],
      "execution_count": 0,
      "outputs": []
    },
    {
      "cell_type": "markdown",
      "metadata": {
        "colab_type": "text",
        "id": "bsnuDBT7JQ9O"
      },
      "source": [
        "## Declare your enterprise\n",
        "If you already have an enterprise, you can enter the enterprise name in the cell below and run the cell. If you do not have a test enterprise, please go through the [general Quickstart](https://developers.google.com/android/management/quickstart) "
      ]
    },
    {
      "cell_type": "code",
      "metadata": {
        "colab_type": "code",
        "id": "TSeTmD7Y85NQ",
        "colab": {}
      },
      "source": [
        "# Paste your enterprise name here.\n",
        "# It should be of the format 'enterprises/LC...'\n",
        "enterprise_name = ''"
      ],
      "execution_count": 0,
      "outputs": []
    },
    {
      "cell_type": "code",
      "metadata": {
        "id": "S2Q2p1KC1vp7",
        "colab_type": "code",
        "colab": {}
      },
      "source": [
        "# Enter the package name for the application that you want to test app feedback for here.\n",
        "app_name = ''"
      ],
      "execution_count": 0,
      "outputs": []
    },
    {
      "cell_type": "markdown",
      "metadata": {
        "colab_type": "text",
        "id": "PnWwzIFyJXQS"
      },
      "source": [
        "\n",
        "Below is an example of how to create or update a policy for apps on a device with settings controlling the behavior of status reports. To enable reporting for a device, update the device policy and set StatusReportingSettings.applicationReportsEnabled to true.\n",
        "\n"
      ]
    },
    {
      "cell_type": "code",
      "metadata": {
        "id": "mJ-PFORwdB4A",
        "colab_type": "code",
        "colab": {}
      },
      "source": [
        "# Example policy below.\n",
        "# Please specify the type of installation to perform for an app.\n",
        "\n",
        "policy_name = enterprise_name + '/policies/feedback-test'\n",
        "\n",
        "policy_json = '''\n",
        "{\n",
        "  \"applications\": [\n",
        "    {\n",
        "      \"packageName\": \"''' + app_name + '''\",\n",
        "      \"installType\": \"FORCE_INSTALLED\"\n",
        "    }\n",
        "  ],\n",
        "  \"debuggingFeaturesAllowed\": true,\n",
        "  \"statusReportingSettings\" : {\n",
        "    \"applicationReportsEnabled\": true,\n",
        "    \"deviceSettingsEnabled\" : true\n",
        "    }\n",
        "}\n",
        "'''\n",
        "\n",
        "androidmanagement.enterprises().policies().patch(\n",
        "    name=policy_name,\n",
        "    body=json.loads(policy_json)\n",
        ").execute()"
      ],
      "execution_count": 0,
      "outputs": []
    },
    {
      "cell_type": "code",
      "metadata": {
        "id": "ofbcBL5NmSIW",
        "colab_type": "code",
        "colab": {}
      },
      "source": [
        "# List devices so you can get a device name to use to pull app feedback below.\n",
        "androidmanagement.enterprises().devices().list(\n",
        "    parent=enterprise_name\n",
        ").execute()"
      ],
      "execution_count": 0,
      "outputs": []
    },
    {
      "cell_type": "markdown",
      "metadata": {
        "id": "CGQSWpfP9tWD",
        "colab_type": "text"
      },
      "source": [
        "To review a devices's latest report at any time, call devices.get() \n",
        "\n",
        "IT admins can use the data from keyed app states to retrieve information about device states."
      ]
    },
    {
      "cell_type": "code",
      "metadata": {
        "id": "roqlhKC0EDrI",
        "colab_type": "code",
        "colab": {}
      },
      "source": [
        "# Enter the device Id\n",
        "device_Id = ''"
      ],
      "execution_count": 0,
      "outputs": []
    },
    {
      "cell_type": "code",
      "metadata": {
        "id": "TOnOsZtOmHlw",
        "colab_type": "code",
        "colab": {}
      },
      "source": [
        "# Review a device’s latest report:\n",
        "androidmanagement.enterprises().devices().get(\n",
        "    name=enterprise_name + '/devices/' + device_Id\n",
        ").execute()"
      ],
      "execution_count": 0,
      "outputs": []
    },
    {
      "cell_type": "markdown",
      "metadata": {
        "id": "jTyUXuvfxAFP",
        "colab_type": "text"
      },
      "source": [
        "#   Set up [Pub/Sub notifications](https://developers.google.com/android/management/notifications)\n",
        "\n",
        "As an alternative you can set up Pub/Sub notifications to provide a way for you to receive alerts about newly enrolled devices, device reports, and recently issued commands"
      ]
    },
    {
      "cell_type": "code",
      "metadata": {
        "id": "2DEmZ5Wcn4et",
        "colab_type": "code",
        "colab": {}
      },
      "source": [
        "# Go to your Cloud Console to get your project ID.\n",
        "# Enter your Google Cloud Project ID below:\n",
        "cloud_project_id = ''"
      ],
      "execution_count": 0,
      "outputs": []
    },
    {
      "cell_type": "code",
      "metadata": {
        "id": "R-Ow14HOoNc2",
        "colab_type": "code",
        "colab": {}
      },
      "source": [
        "# Go to the Pub/Sub topics page in the Cloud Console to get the topic name you created.\n",
        "# Enter the topic you created below:\n",
        "my_topic = ''"
      ],
      "execution_count": 0,
      "outputs": []
    },
    {
      "cell_type": "code",
      "metadata": {
        "id": "Hc_rm5nfQWgD",
        "colab_type": "code",
        "colab": {}
      },
      "source": [
        "\n",
        "# Update the enterprise to support notifications:\n",
        "enterprise = androidmanagement.enterprises().patch(\n",
        "    name=enterprise_name,\n",
        "    body={\n",
        "        \"name\" : enterprise_name,\n",
        "        \"enabledNotificationTypes\" : \"STATUS_REPORT\",\n",
        "        \"pubsubTopic\": \"projects/\" + cloud_project_id + \"/topics/\" + my_topic\n",
        "    }\n",
        ").execute()"
      ],
      "execution_count": 0,
      "outputs": []
    }
  ]
}